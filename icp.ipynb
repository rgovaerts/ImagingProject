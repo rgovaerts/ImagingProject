{
 "metadata": {
  "name": "icp"
 },
 "nbformat": 3,
 "nbformat_minor": 0,
 "worksheets": [
  {
   "cells": [
    {
     "cell_type": "code",
     "collapsed": false,
     "input": "\"\"\"\nCreated on Sat Nov 09 16:50:30 2013\n\n@author: Remy\n\"\"\"\n\nfrom numpy import *\nfrom math import sqrt\n\n# Input: expects Nx3 matrix of points\n# Returns R,t\n# R = 3x3 rotation matrix\n# t = 3x1 column vector\n\n\"\"\"\nEstimation of transformation parameters (rotation and translation)\nhttp://nghiaho.com/?page_id=671\nhttp://nghiaho.com/uploads/code/rigid_transform_3D.py_\nlast consulted 8/11/2013\n\"\"\"\n\ndef rigid_transform_3D(A, B):\n    assert len(A) == len(B)\n    N = A.shape[0]; # total points\n    centroid_A = mean(A, axis=0)\n    centroid_B = mean(B, axis=0)\n    # centre the points\n    AA = A - tile(centroid_A, (N, 1))\n    BB = B - tile(centroid_B, (N, 1))\n    # dot is matrix multiplication for array\n    H = dot(AA.T,BB)\n    U, S, Vt = linalg.svd(H)\n    R = dot(Vt,U.T)\n    # special reflection case\n    if linalg.det(R) < 0:\n       print \"Reflection detected\"\n       Vt[2,:] *= -1\n       R = dot(Vt,U.T)\n    t = -dot(R,centroid_A) + centroid_B\n    return R, t\n    \nimport pylab\nfrom scipy.spatial import KDTree\ndef ICP_3D(a,b, error):\n    \"\"\"\n    Returns A transformed so that it matches B as closely as posible\n    \n    The algorithm steps are :\n    \n        1.Associate points by the nearest neighbor criteria (for each point in one point cloud find the closest point in the second point cloud).\n        2.Estimate transformation parameters (rotation and translation) using a mean square cost function (the transform would align best each point to its match found in the previous step).\n        3.Transform the points using the estimated parameters.\n        4.Iterate (re-associate the points and so on).\n        \n    http://en.wikipedia.org/wiki/Iterative_closest_point\n    http://en.wikipedia.org/wiki/Point_Set_Registration#Iterative_closest_point\n    \"\"\"\n    n = a.shape[0] #number of points\n    B = b\n    tree1 = KDTree(a)\n    tree2 = KDTree(b)\n    # 1.Associate points by the nearest neighbor criteria\n    dist,indices = tree1.query(b, k=1, eps=0, p=2, distance_upper_bound=inf)\n    A = zeros_like(a)\n    j = 0\n    for i in indices:\n        A[j] = a[i]\n        j+=1\n    # 2.Estimate transformation parameters (rotation and translation)\n    ret_R, ret_t = rigid_transform_3D(A, b)\n    # 3.Transform the points using the estimated parameters.\n    A2 = dot(ret_R,A.T) + tile(ret_t, (n, 1)).T\n    A2 = A2.T\n    # Find the square error (MSE)\n    err = A2 - B\n    mse = sum(np.square(err))/n\n    print mse\n    if mse > error:\n        # 4.Iterate\n        A2 = ICP_3D(A2, B, error)\n        return A2\n    else:\n        return A2\n        \nimport os\nimport numpy as np\nfrom matplotlib import pyplot\n\n\n\nn = 100\npoints = random.rand(n,3)\npoints[:,0] = np.linspace(-1, 1, n)\npoints[:,1] = 0\npoints[:,2] = np.square(np.sin(np.linspace(0, np.pi, n))) / 3\n\nangle1 = random.rand() % 0.2\nangle2 = random.rand() % 0.2\nangle3 = random.rand() % 0.2\n#X rot matrix\nrotX = np.zeros([3,3])\nrotX[2,2] = math.cos(angle1)\nrotX[1,1] = math.cos(angle1)\nrotX[1,2] = -math.sin(angle1)\nrotX[2,1] = math.sin(angle1)\nrotX[0,0] = 1\n#Y rot matrix\nrotY = np.zeros([3,3])\nrotY[0,0] = math.cos(angle2)\nrotY[2,2] = math.cos(angle2)\nrotY[2,0] = -math.sin(angle2)\nrotY[0,2] = math.sin(angle2)\nrotY[1,1] = 1\n#Z rot matrix\nrotZ = np.zeros([3,3])\nrotZ[0,0] = math.cos(angle3)\nrotZ[1,1] = math.cos(angle3)\nrotZ[0,1] = -math.sin(angle3)\nrotZ[1,0] = math.sin(angle3)\nrotZ[2,2] = 1\n#total rotation matrix\nrot = dot(rotX,dot(rotY,rotZ))\n#translation matrix\ntran = random.rand(1,3) / 3\n\n#translated & rotated set of points\nnew_points = dot(rot,points.T)  + tile(tran, (points.shape[0], 1)).T\nnew_points = new_points.T\nerror = 1\nres = ICP_3D(points,new_points, error)\nx = points.T[0]\ny = points.T[1]\nz = points.T[2]\nres_x = res.T[0]\nres_y = res.T[1]\nres_z = res.T[2]\nx2 = new_points.T[0]\ny2 = new_points.T[1]\nz2 = new_points.T[2]\n\n\nfrom mayavi.mlab import *\npoints3d(x, y, z, color=(0, 0, 1), scale_factor=.02 )\npoints3d(res_x, res_y, res_z, color=(0, 1, 0), scale_factor=.02 )\npoints3d(x2, y2, z2, color=(1, 0, 0), scale_factor=.02)\nshow()",
     "language": "python",
     "metadata": {},
     "outputs": [
      {
       "output_type": "stream",
       "stream": "stdout",
       "text": "0.00581513151893\n"
      }
     ],
     "prompt_number": 1
    },
    {
     "cell_type": "code",
     "collapsed": false,
     "input": "",
     "language": "python",
     "metadata": {},
     "outputs": []
    }
   ],
   "metadata": {}
  }
 ]
}